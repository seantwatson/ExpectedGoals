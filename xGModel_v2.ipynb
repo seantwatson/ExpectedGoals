{
 "cells": [
  {
   "cell_type": "markdown",
   "metadata": {},
   "source": [
    "<h1><u>Building an Expected Goals Model</u></h1>"
   ]
  },
  {
   "cell_type": "markdown",
   "metadata": {},
   "source": [
    "<i>Data used is Statsbomb open data from github @ https://raw.githubusercontent.com/statsbomb/open-data/ that they've made avaialable for free to the public. I'm specifically using event data from matches from the 2018 World Cup to build this model. This is a smaller scale model that may be less fitted and less accurate but is nonetheless a proof of concept and stepping stone for larger and later projects I plan on tackling.</i>"
   ]
  },
  {
   "cell_type": "markdown",
   "metadata": {},
   "source": [
    "<u>Libraries, Data Source, and Functions</u>"
   ]
  },
  {
   "cell_type": "code",
   "execution_count": 1,
   "metadata": {},
   "outputs": [],
   "source": [
    "import requests\n",
    "import pandas as pd\n",
    "import numpy as np\n",
    "import matplotlib.pyplot as plt\n",
    "from sklearn.model_selection import train_test_split\n",
    "from sklearn.linear_model import LogisticRegression\n",
    "from sklearn.metrics import accuracy_score, classification_report, confusion_matrix\n",
    "import seaborn as sns\n",
    "\n",
    "%matplotlib inline\n",
    "sns.set_style('whitegrid')\n",
    "plt.style.use(\"fivethirtyeight\")"
   ]
  },
  {
   "cell_type": "code",
   "execution_count": 2,
   "metadata": {},
   "outputs": [],
   "source": [
    "base_url = \"https://raw.githubusercontent.com/statsbomb/open-data/master/data/\"\n",
    "comp_url = base_url + \"matches/{}/{}.json\"\n",
    "match_url = base_url + \"events/{}.json\"\n",
    "\n",
    "model = LogisticRegression()"
   ]
  },
  {
   "cell_type": "code",
   "execution_count": 3,
   "metadata": {},
   "outputs": [],
   "source": [
    "def parseData(competition_id, season_id):\n",
    "    matches = requests.get(url=comp_url.format(competition_id, season_id)).json()\n",
    "    match_ids = [m['match_id'] for m in matches]\n",
    "    \n",
    "    all_events = []\n",
    "    \n",
    "    for match_id in match_ids:\n",
    "        \n",
    "        events = requests.get(url=match_url.format(match_id)).json()\n",
    "        shots = [x for x in events if x['type']['name'] == \"Shot\"]\n",
    "        \n",
    "        for s in shots:\n",
    "            attributes = {\n",
    "                \"x\": s['location'][0],\n",
    "                \"y\": s['location'][1],\n",
    "                \"head\": 1 if s['shot']['body_part']['name'] == \"Head\" else 0,\n",
    "                \"phase\": s['shot']['type']['name'],\n",
    "                \"tech\": 1 if s['shot']['technique']['name'] == \"Normal\" else 0,\n",
    "                \"outcome\": 1 if s['shot']['outcome']['name'] == \"Goal\" else 0,\n",
    "                \"statsbomb_xg\": s['shot']['statsbomb_xg']\n",
    "            }\n",
    "            all_events.append(attributes)\n",
    "            \n",
    "    return pd.DataFrame(all_events)\n",
    "\n",
    "\n",
    "def distance_to_goal(origin):\n",
    "    dest = np.array([120., 40.])\n",
    "    return np.sqrt(np.sum((origin - dest) ** 2))\n",
    "\n",
    "\n",
    "def goal_angle(origin):\n",
    "    p0 = np.array((120., 36.)) ##Left Post\n",
    "    p1 = np.array(origin, dtype = np.float)\n",
    "    p2 = np.array((120., 44.)) ##Right Post\n",
    "    \n",
    "    v0 = p0 - p1\n",
    "    v1 = p2 - p1\n",
    "    \n",
    "    angle = np.abs(np.math.atan2(np.linalg.det([v0,v1]), np.dot(v0, v1)))\n",
    "    \n",
    "    return angle"
   ]
  },
  {
   "cell_type": "markdown",
   "metadata": {},
   "source": [
    "<u>Data Ingestion & Pre-Processing</u>"
   ]
  },
  {
   "cell_type": "code",
   "execution_count": 4,
   "metadata": {},
   "outputs": [],
   "source": [
    "competition_id = 43\n",
    "season_id = 3\n",
    "##These values are set to pull World Cup 2018 data from github\n",
    "\n",
    "df = parseData(competition_id, season_id)"
   ]
  },
  {
   "cell_type": "code",
   "execution_count": 5,
   "metadata": {},
   "outputs": [],
   "source": [
    "df['distance_to_goal'] = df.apply(lambda row: distance_to_goal(row[['x', 'y']]), axis = 1)\n",
    "df['goal_angle'] = df.apply(lambda r: goal_angle(r[['x', 'y']]), axis = 1)"
   ]
  },
  {
   "cell_type": "code",
   "execution_count": 6,
   "metadata": {},
   "outputs": [],
   "source": [
    "##We don't want to include free kicks or penalties in the model since they are distinct events in different phases of play that may be more or less predictable\n",
    "shots = df[~df['phase'].isin(['Free Kick', 'Penalty'])]"
   ]
  },
  {
   "cell_type": "code",
   "execution_count": 7,
   "metadata": {},
   "outputs": [
    {
     "data": {
      "text/html": [
       "<div>\n",
       "<style scoped>\n",
       "    .dataframe tbody tr th:only-of-type {\n",
       "        vertical-align: middle;\n",
       "    }\n",
       "\n",
       "    .dataframe tbody tr th {\n",
       "        vertical-align: top;\n",
       "    }\n",
       "\n",
       "    .dataframe thead th {\n",
       "        text-align: right;\n",
       "    }\n",
       "</style>\n",
       "<table border=\"1\" class=\"dataframe\">\n",
       "  <thead>\n",
       "    <tr style=\"text-align: right;\">\n",
       "      <th></th>\n",
       "      <th>x</th>\n",
       "      <th>y</th>\n",
       "      <th>head</th>\n",
       "      <th>phase</th>\n",
       "      <th>tech</th>\n",
       "      <th>outcome</th>\n",
       "      <th>statsbomb_xg</th>\n",
       "      <th>distance_to_goal</th>\n",
       "      <th>goal_angle</th>\n",
       "    </tr>\n",
       "  </thead>\n",
       "  <tbody>\n",
       "    <tr>\n",
       "      <th>0</th>\n",
       "      <td>97.0</td>\n",
       "      <td>32.0</td>\n",
       "      <td>0</td>\n",
       "      <td>Open Play</td>\n",
       "      <td>1</td>\n",
       "      <td>0</td>\n",
       "      <td>0.037902</td>\n",
       "      <td>24.351591</td>\n",
       "      <td>0.308696</td>\n",
       "    </tr>\n",
       "    <tr>\n",
       "      <th>1</th>\n",
       "      <td>108.0</td>\n",
       "      <td>51.0</td>\n",
       "      <td>0</td>\n",
       "      <td>Open Play</td>\n",
       "      <td>0</td>\n",
       "      <td>0</td>\n",
       "      <td>0.044519</td>\n",
       "      <td>16.278821</td>\n",
       "      <td>0.367981</td>\n",
       "    </tr>\n",
       "    <tr>\n",
       "      <th>2</th>\n",
       "      <td>109.0</td>\n",
       "      <td>55.0</td>\n",
       "      <td>0</td>\n",
       "      <td>Open Play</td>\n",
       "      <td>1</td>\n",
       "      <td>0</td>\n",
       "      <td>0.040015</td>\n",
       "      <td>18.601075</td>\n",
       "      <td>0.260602</td>\n",
       "    </tr>\n",
       "    <tr>\n",
       "      <th>3</th>\n",
       "      <td>102.0</td>\n",
       "      <td>23.0</td>\n",
       "      <td>0</td>\n",
       "      <td>Open Play</td>\n",
       "      <td>1</td>\n",
       "      <td>0</td>\n",
       "      <td>0.026998</td>\n",
       "      <td>24.758837</td>\n",
       "      <td>0.236685</td>\n",
       "    </tr>\n",
       "    <tr>\n",
       "      <th>4</th>\n",
       "      <td>114.0</td>\n",
       "      <td>48.0</td>\n",
       "      <td>1</td>\n",
       "      <td>Open Play</td>\n",
       "      <td>1</td>\n",
       "      <td>0</td>\n",
       "      <td>0.040895</td>\n",
       "      <td>10.000000</td>\n",
       "      <td>0.519146</td>\n",
       "    </tr>\n",
       "    <tr>\n",
       "      <th>5</th>\n",
       "      <td>116.0</td>\n",
       "      <td>35.0</td>\n",
       "      <td>0</td>\n",
       "      <td>Open Play</td>\n",
       "      <td>1</td>\n",
       "      <td>0</td>\n",
       "      <td>0.272925</td>\n",
       "      <td>6.403124</td>\n",
       "      <td>0.907593</td>\n",
       "    </tr>\n",
       "    <tr>\n",
       "      <th>6</th>\n",
       "      <td>100.0</td>\n",
       "      <td>51.0</td>\n",
       "      <td>0</td>\n",
       "      <td>Open Play</td>\n",
       "      <td>1</td>\n",
       "      <td>0</td>\n",
       "      <td>0.027069</td>\n",
       "      <td>22.825424</td>\n",
       "      <td>0.306826</td>\n",
       "    </tr>\n",
       "    <tr>\n",
       "      <th>7</th>\n",
       "      <td>83.0</td>\n",
       "      <td>53.0</td>\n",
       "      <td>0</td>\n",
       "      <td>Open Play</td>\n",
       "      <td>1</td>\n",
       "      <td>0</td>\n",
       "      <td>0.011727</td>\n",
       "      <td>39.217343</td>\n",
       "      <td>0.192083</td>\n",
       "    </tr>\n",
       "    <tr>\n",
       "      <th>9</th>\n",
       "      <td>105.0</td>\n",
       "      <td>48.0</td>\n",
       "      <td>0</td>\n",
       "      <td>Open Play</td>\n",
       "      <td>0</td>\n",
       "      <td>0</td>\n",
       "      <td>0.053922</td>\n",
       "      <td>17.000000</td>\n",
       "      <td>0.414139</td>\n",
       "    </tr>\n",
       "    <tr>\n",
       "      <th>10</th>\n",
       "      <td>88.0</td>\n",
       "      <td>37.0</td>\n",
       "      <td>0</td>\n",
       "      <td>Open Play</td>\n",
       "      <td>1</td>\n",
       "      <td>0</td>\n",
       "      <td>0.016155</td>\n",
       "      <td>32.140317</td>\n",
       "      <td>0.246598</td>\n",
       "    </tr>\n",
       "  </tbody>\n",
       "</table>\n",
       "</div>"
      ],
      "text/plain": [
       "        x     y  head      phase  tech  outcome  statsbomb_xg  \\\n",
       "0    97.0  32.0     0  Open Play     1        0      0.037902   \n",
       "1   108.0  51.0     0  Open Play     0        0      0.044519   \n",
       "2   109.0  55.0     0  Open Play     1        0      0.040015   \n",
       "3   102.0  23.0     0  Open Play     1        0      0.026998   \n",
       "4   114.0  48.0     1  Open Play     1        0      0.040895   \n",
       "5   116.0  35.0     0  Open Play     1        0      0.272925   \n",
       "6   100.0  51.0     0  Open Play     1        0      0.027069   \n",
       "7    83.0  53.0     0  Open Play     1        0      0.011727   \n",
       "9   105.0  48.0     0  Open Play     0        0      0.053922   \n",
       "10   88.0  37.0     0  Open Play     1        0      0.016155   \n",
       "\n",
       "    distance_to_goal  goal_angle  \n",
       "0          24.351591    0.308696  \n",
       "1          16.278821    0.367981  \n",
       "2          18.601075    0.260602  \n",
       "3          24.758837    0.236685  \n",
       "4          10.000000    0.519146  \n",
       "5           6.403124    0.907593  \n",
       "6          22.825424    0.306826  \n",
       "7          39.217343    0.192083  \n",
       "9          17.000000    0.414139  \n",
       "10         32.140317    0.246598  "
      ]
     },
     "execution_count": 7,
     "metadata": {},
     "output_type": "execute_result"
    }
   ],
   "source": [
    "shots.head(10)"
   ]
  },
  {
   "cell_type": "code",
   "execution_count": 8,
   "metadata": {},
   "outputs": [
    {
     "data": {
      "text/plain": [
       "(1556, 9)"
      ]
     },
     "execution_count": 8,
     "metadata": {},
     "output_type": "execute_result"
    }
   ],
   "source": [
    "shots.shape"
   ]
  },
  {
   "cell_type": "code",
   "execution_count": 9,
   "metadata": {},
   "outputs": [],
   "source": [
    "X = shots[['distance_to_goal', 'goal_angle', 'tech', 'head']]\n",
    "y = shots['outcome']"
   ]
  },
  {
   "cell_type": "code",
   "execution_count": 10,
   "metadata": {},
   "outputs": [],
   "source": [
    "X_train, X_test, y_train, y_test = train_test_split(X, y, test_size = 0.3, random_state = 100, stratify = y)"
   ]
  },
  {
   "cell_type": "code",
   "execution_count": 11,
   "metadata": {},
   "outputs": [
    {
     "name": "stdout",
     "output_type": "stream",
     "text": [
      "Original dataset: 1556\n",
      "Training Set: 1089\n",
      "Test Set: 467\n"
     ]
    }
   ],
   "source": [
    "print('Original dataset' + ': ' + str(len(y)))\n",
    "print('Training Set' + ': ' + str(len(y_train)))\n",
    "print('Test Set'  + ': '+ str(len(y_test)))"
   ]
  },
  {
   "cell_type": "markdown",
   "metadata": {},
   "source": [
    "<u>Modelling and Visualizations</u>"
   ]
  },
  {
   "cell_type": "code",
   "execution_count": 12,
   "metadata": {},
   "outputs": [
    {
     "name": "stdout",
     "output_type": "stream",
     "text": [
      "0    1427\n",
      "1     129\n",
      "Name: outcome, dtype: int64\n"
     ]
    },
    {
     "data": {
      "image/png": "[encoded data removed]",
      "text/plain": [
       "<Figure size 432x288 with 1 Axes>"
      ]
     },
     "metadata": {},
     "output_type": "display_data"
    }
   ],
   "source": [
    "sns.histplot(shots['outcome'], stat = 'count', bins = 2)\n",
    "print(shots['outcome'].value_counts())"
   ]
  },
  {
   "cell_type": "markdown",
   "metadata": {},
   "source": [
    "<i>It's worth noting here that there are more than 10 times as many shots that are <b>not</b> goals as there are that do end up as goals. For accuracy it would be more appropriate here to perhaps use weighted logistic regression, however that's something I want to look into further, and would like to keep outside the scope of this project. For now I'm more concerned with getting a baseline model to compare to before I begin tuning the model too much.</i>"
   ]
  },
  {
   "cell_type": "code",
   "execution_count": 22,
   "metadata": {},
   "outputs": [
    {
     "data": {
      "text/plain": [
       "<AxesSubplot:xlabel='distance_to_goal', ylabel='Count'>"
      ]
     },
     "execution_count": 22,
     "metadata": {},
     "output_type": "execute_result"
    },
    {
     "data": {
      "image/png": "[encoded data removed]",
      "text/plain": [
       "<Figure size 432x288 with 1 Axes>"
      ]
     },
     "metadata": {},
     "output_type": "display_data"
    }
   ],
   "source": [
    "sns.histplot(shots['distance_to_goal'])"
   ]
  },
  {
   "cell_type": "code",
   "execution_count": 23,
   "metadata": {},
   "outputs": [
    {
     "data": {
      "text/plain": [
       "<AxesSubplot:xlabel='goal_angle', ylabel='Count'>"
      ]
     },
     "execution_count": 23,
     "metadata": {},
     "output_type": "execute_result"
    },
    {
     "data": {
      "image/png": "[encoded data removed]",
      "text/plain": [
       "<Figure size 432x288 with 1 Axes>"
      ]
     },
     "metadata": {},
     "output_type": "display_data"
    }
   ],
   "source": [
    "sns.histplot(shots['goal_angle'])"
   ]
  },
  {
   "cell_type": "markdown",
   "metadata": {},
   "source": [
    "<i>As the two continuous variables to be used in the model, I wanted to look into the distribution of shot distance and angle to goal. Shot distance is roughly normal and as far as I can tell seems fine to use at this point in the model. Goal angle however is certainly skewed right, which makes sense intuitively to me. It's a lot easier for a player to recognize that a sharp angle will be very hard to score from, but that same kind of logic doesn't quite extend to shooting distance since players still feel like they have all or most of the goal to shoot at. Similar to the issue with our imbalance of the target variable, I'd be interested in trying to transform this variable into a normal distribution before modeling. However, like I said I'd like to find a baseline performance to compare to before tweaking and transforming the model too much.</i>"
   ]
  },
  {
   "cell_type": "code",
   "execution_count": 14,
   "metadata": {},
   "outputs": [],
   "source": [
    "fit = model.fit(X_train, y_train)"
   ]
  },
  {
   "cell_type": "code",
   "execution_count": 15,
   "metadata": {},
   "outputs": [],
   "source": [
    "train_pred = model.predict(X_train)\n",
    "test_pred = model.predict(X_test)"
   ]
  },
  {
   "cell_type": "code",
   "execution_count": 16,
   "metadata": {},
   "outputs": [
    {
     "name": "stdout",
     "output_type": "stream",
     "text": [
      "The training model score is: 0.9164370982552801\n",
      "The model score for the test set is: 0.9186295503211992\n"
     ]
    }
   ],
   "source": [
    "print(\"The training model score is:\" + ' ' + str(model.score(X_train, y_train)))\n",
    "print(\"The model score for the test set is: \" + str(model.score(X_test, y_test)))"
   ]
  },
  {
   "cell_type": "markdown",
   "metadata": {},
   "source": [
    "<i>These accuracies are surprisingly impressive for such a simple model. Intuitively, most of the work is being done by the shot location, and consequently the distance to goal and goal angles we have calculated. This is very different from my previous work in building xG models as this accuracy is far greater than what I'd been able to achieve previously with similar features like body part/technique. Some factors like technique or body part may be useful, but it's important to point out that most of the work is being done by locations.</i>"
   ]
  },
  {
   "cell_type": "code",
   "execution_count": 17,
   "metadata": {},
   "outputs": [
    {
     "name": "stdout",
     "output_type": "stream",
     "text": [
      "              precision    recall  f1-score   support\n",
      "\n",
      "           0       0.92      1.00      0.96       428\n",
      "           1       0.67      0.05      0.10        39\n",
      "\n",
      "    accuracy                           0.92       467\n",
      "   macro avg       0.79      0.52      0.53       467\n",
      "weighted avg       0.90      0.92      0.89       467\n",
      "\n"
     ]
    }
   ],
   "source": [
    "print(classification_report(y_test, test_pred))"
   ]
  },
  {
   "cell_type": "code",
   "execution_count": 18,
   "metadata": {},
   "outputs": [
    {
     "data": {
      "image/png": "[encoded data removed]",
      "text/plain": [
       "<Figure size 864x432 with 2 Axes>"
      ]
     },
     "metadata": {},
     "output_type": "display_data"
    }
   ],
   "source": [
    "cm = confusion_matrix(y_test,test_pred)\n",
    "plt.figure(figsize=(12,6))\n",
    "plt.title(\"Confusion Matrix\")\n",
    "sns.heatmap(cm, annot = True, fmt = 'd', cmap = 'Blues')\n",
    "plt.ylabel(\"Actual Values\")\n",
    "plt.xlabel(\"Predicted Values\")\n",
    "plt.savefig('confusion_matrix.png')"
   ]
  },
  {
   "cell_type": "markdown",
   "metadata": {},
   "source": [
    "<u>Conclusion</u>"
   ]
  },
  {
   "cell_type": "markdown",
   "metadata": {},
   "source": [
    "<i>Now the confusion matrix and classification report here definitely provides some useful insight. You can clearly see that while predicting the test set, the model only predicted 3 total shots as goals out of the 467 shots that were placed into the test set. So while ~92% accuracy looks very good, in this context it's certainly somewhat less impressive. If the model had simply predicted no goal for every single outcome, it would still perform at an accuracy of 91.6488% as opposed to the observed accuracy in the test set of 91.863%. Given that, an accuracy improvement of about .2% is just not very impressive.</i>"
   ]
  },
  {
   "cell_type": "markdown",
   "metadata": {},
   "source": [
    "<i>As far as further steps on building the model from this point, I have a couple ideas. The first improvement I will look into will likely be normalizing the distance_to_goal and goal_angle features before running the model. In the data and in real life these values are not normally distributed, and the data should be transformed/weighted to reflect that rather than applying linear weights to each one. Intuitively this is bad because the change in value from a shot 5 yards out to 10 yards out is very different than the change in value from shooting 35 yards out instead of 30. Our current model doesn't account for this. Also, I'm only pulling data from the 2018 World Cup since it's contained in one place in StatsBomb's github, but I'd also like to pull all of their openly avaialable event data together into one large dataframe to try to train a more robust and accurate model.</i>"
   ]
  },
  {
   "cell_type": "markdown",
   "metadata": {},
   "source": [
    "<i>Additionally, there is still more data contained in StatsBomb's event data that I'm not making use of. There are variables to indicate weather or not the shot is a first time shot or not, the ending location of the shot, duration of the event, players around or involved with the event, and id's for related event data such as the key pass leading to the shot. I wanted to keep the model more simple at first with things I knew/strongly suspected to be relevant like body part, shot distance/angle, and technique, but moving forward this additional information provides me with a lot more options. For this current model I'd be very interested in trying to include additional player data to try to capture information about the amount of defensive pressure - maybe using a distance formula from the place of shot and other defenders - as well as experimenting with the first time variable as a feature of the model.</i>"
   ]
  },
  {
   "cell_type": "markdown",
   "metadata": {},
   "source": [
    "<i>There are two future paths I'd like to take this data beyond this model and this exercise. While this project is more specifically a pre-shot expected goals model (analyzing the likelihood of a goal excluding the quality of the shot itself), it contains enough information that I could build a post-shot expected goals model. This type of model also measures the likelihood of a given shot being score, but by using the duration of the shot and the ending location of the shot you can use it to judge the probability of a goal taking into account the quality of the shot. This also more accurately depicts how likely a goalkeeper would be to save a given chance. And finally using either this model or a future model I would like to run some match simulations. For example, if one team has a significantly greater sum of xG over the course of a game, they would be considered more likely to win a given game. Using packages like random, I could simulate matches thousands of times to determine the probability of an outcome given two teams' shots over the course of a game.</i>"
   ]
  },
  {
   "cell_type": "code",
   "execution_count": null,
   "metadata": {},
   "outputs": [],
   "source": []
  }
 ],
 "metadata": {
  "kernelspec": {
   "display_name": "Python 3",
   "language": "python",
   "name": "python3"
  },
  "language_info": {
   "codemirror_mode": {
    "name": "ipython",
    "version": 3
   },
   "file_extension": ".py",
   "mimetype": "text/x-python",
   "name": "python",
   "nbconvert_exporter": "python",
   "pygments_lexer": "ipython3",
   "version": "3.8.5"
  }
 },
 "nbformat": 4,
 "nbformat_minor": 4
}
